{
  "nbformat": 4,
  "nbformat_minor": 0,
  "metadata": {
    "colab": {
      "name": "Copy of Untitled0.ipynb",
      "provenance": [],
      "collapsed_sections": [],
      "toc_visible": true,
      "authorship_tag": "ABX9TyN92PcW4wU/QqhY7BEqhCNs",
      "include_colab_link": true
    },
    "kernelspec": {
      "name": "python3",
      "display_name": "Python 3"
    }
  },
  "cells": [
    {
      "cell_type": "markdown",
      "metadata": {
        "id": "view-in-github",
        "colab_type": "text"
      },
      "source": [
        "<a href=\"https://colab.research.google.com/github/Nag112/aws-codepipeline-s3-codedeploy-linux/blob/master/elm_for_mnist_data.ipynb\" target=\"_parent\"><img src=\"https://colab.research.google.com/assets/colab-badge.svg\" alt=\"Open In Colab\"/></a>"
      ]
    },
    {
      "cell_type": "code",
      "metadata": {
        "id": "MSgm-3nxqR2Y",
        "colab_type": "code",
        "colab": {}
      },
      "source": [
        "from keras.datasets import mnist\n",
        "from keras.utils import to_categorical\n",
        "from elm import ELM, load_model\n",
        "import argparse\n",
        "import os\n",
        "import numpy as np\n",
        "\n",
        "parser = argparse.ArgumentParser()\n",
        "parser.add_argument('--n_hidden_nodes', type=int, default=1024)\n",
        "parser.add_argument('--loss',\n",
        "    choices=['mean_squared_error', 'mean_absolute_error'],\n",
        "    default='mean_squared_error',\n",
        ")\n",
        "parser.add_argument('--activation',\n",
        "    choices=['sigmoid', 'identity'],\n",
        "    default='sigmoid',\n",
        ")\n",
        "\n",
        "def softmax(x):\n",
        "    c = np.max(x, axis=-1)\n",
        "    upper = np.exp(x - c)\n",
        "    lower = np.sum(upper, axis=-1)\n",
        "    return upper / lower\n",
        "\n",
        "def main(args):\n",
        "    # ===============================\n",
        "    # Load dataset\n",
        "    # ===============================\n",
        "    n_classes = 10\n",
        "    (x_train, t_train), (x_test, t_test) = mnist.load_data()\n",
        "\n",
        "    # ===============================\n",
        "    # Preprocess\n",
        "    # ===============================\n",
        "    x_train = x_train.astype(np.float32) / 255.\n",
        "    x_train = x_train.reshape(-1, 28**2)\n",
        "    x_test = x_test.astype(np.float32) / 255.\n",
        "    x_test = x_test.reshape(-1, 28**2)\n",
        "    t_train = to_categorical(t_train, n_classes).astype(np.float32)\n",
        "    t_test = to_categorical(t_test, n_classes).astype(np.float32)\n",
        "\n",
        "    # ===============================\n",
        "    # Instantiate ELM\n",
        "    # ===============================\n",
        "    model = ELM(\n",
        "        n_input_nodes=28**2,\n",
        "        n_hidden_nodes=args.n_hidden_nodes,\n",
        "        n_output_nodes=n_classes,\n",
        "        loss=args.loss,\n",
        "        activation=args.activation,\n",
        "        name='elm',\n",
        "    )\n",
        "\n",
        "    # ===============================\n",
        "    # Training\n",
        "    # ===============================\n",
        "    model.fit(x_train, t_train)\n",
        "    train_loss, train_acc, train_uar = model.evaluate(x_train, t_train, metrics=['loss', 'accuracy', 'uar'])\n",
        "    print('train_loss: %f' % train_loss) # loss value\n",
        "    print('train_acc: %f' % train_acc) # accuracy\n",
        "    print('train_uar: %f' % train_uar) # uar (unweighted average recall)\n",
        "\n",
        "    # ===============================\n",
        "    # Validation\n",
        "    # ===============================\n",
        "    val_loss, val_acc, val_uar = model.evaluate(x_test, t_test, metrics=['loss', 'accuracy', 'uar'])\n",
        "    print('val_loss: %f' % val_loss)\n",
        "    print('val_acc: %f' % val_acc)\n",
        "    print('val_uar: %f' % val_uar)\n",
        "\n",
        "    # ===============================\n",
        "    # Prediction\n",
        "    # ===============================\n",
        "    x = x_test[:10]\n",
        "    t = t_test[:10]\n",
        "    y = softmax(model.predict(x))\n",
        "\n",
        "    for i in range(len(y)):\n",
        "        print('---------- prediction %d ----------' % (i+1))\n",
        "        class_pred = np.argmax(y[i])\n",
        "        prob_pred = y[i][class_pred]\n",
        "        class_true = np.argmax(t[i])\n",
        "        print('prediction:')\n",
        "        print('\\tclass: %d, probability: %f' % (class_pred, prob_pred))\n",
        "        print('\\tclass (true): %d' % class_true)\n",
        "\n",
        "    # ===============================\n",
        "    # Save model\n",
        "    # ===============================\n",
        "    print('saving model...')\n",
        "    model.save('model.h5')\n",
        "    del model\n",
        "\n",
        "    # ===============================\n",
        "    # Load model\n",
        "    # ===============================\n",
        "    print('loading model...')\n",
        "    model = load_model('model.h5')\n",
        "\n",
        "\n",
        "if __name__ == '__main__':\n",
        "    args = parser.parse_args()\n",
        "    main(args)\n"
      ],
      "execution_count": 0,
      "outputs": []
    },
    {
      "cell_type": "code",
      "metadata": {
        "id": "8rFVt0yslmVb",
        "colab_type": "code",
        "outputId": "bb18ccaa-3344-46b3-c045-d5f33cefbe28",
        "colab": {
          "base_uri": "https://localhost:8080/",
          "height": 887
        }
      },
      "source": [
        "!python train.py --n_hidden_nodes 2048 --activation sigmoid --loss mean_absolute_error"
      ],
      "execution_count": 0,
      "outputs": [
        {
          "output_type": "stream",
          "text": [
            "Using TensorFlow backend.\n",
            "tcmalloc: large alloc 1999716352 bytes == 0x8ae6e000 @  0x7f711bda61e7 0x7f711436c106 0x7f7119b6df4e 0x7f7119b6e37e 0x5aa6ec 0x50abb3 0x50d390 0x508245 0x58958c 0x5a067e 0x7f711995506d 0x50a8af 0x50c5b9 0x508245 0x50a080 0x50aa7d 0x50d390 0x508245 0x589471 0x5a067e 0x7f711995506d 0x50a8af 0x50c5b9 0x508245 0x50a080 0x50aa7d 0x50c5b9 0x509d48 0x50aa7d 0x50c5b9 0x509d48\n",
            "train_loss: 0.088128\n",
            "train_acc: 0.960783\n",
            "train_uar: 0.960421\n",
            "val_loss: 0.090484\n",
            "val_acc: 0.953200\n",
            "val_uar: 0.952836\n",
            "---------- prediction 1 ----------\n",
            "prediction:\n",
            "\tclass: 7, probability: 0.289745\n",
            "\tclass (true): 7\n",
            "---------- prediction 2 ----------\n",
            "prediction:\n",
            "\tclass: 2, probability: 0.195573\n",
            "\tclass (true): 2\n",
            "---------- prediction 3 ----------\n",
            "prediction:\n",
            "\tclass: 1, probability: 0.198742\n",
            "\tclass (true): 1\n",
            "---------- prediction 4 ----------\n",
            "prediction:\n",
            "\tclass: 8, probability: 0.146815\n",
            "\tclass (true): 0\n",
            "---------- prediction 5 ----------\n",
            "prediction:\n",
            "\tclass: 4, probability: 0.194335\n",
            "\tclass (true): 4\n",
            "---------- prediction 6 ----------\n",
            "prediction:\n",
            "\tclass: 1, probability: 0.220318\n",
            "\tclass (true): 1\n",
            "---------- prediction 7 ----------\n",
            "prediction:\n",
            "\tclass: 8, probability: 0.169305\n",
            "\tclass (true): 4\n",
            "---------- prediction 8 ----------\n",
            "prediction:\n",
            "\tclass: 9, probability: 0.183391\n",
            "\tclass (true): 9\n",
            "---------- prediction 9 ----------\n",
            "prediction:\n",
            "\tclass: 8, probability: 0.196529\n",
            "\tclass (true): 5\n",
            "---------- prediction 10 ----------\n",
            "prediction:\n",
            "\tclass: 9, probability: 0.194922\n",
            "\tclass (true): 9\n",
            "saving model...\n",
            "loading model...\n"
          ],
          "name": "stdout"
        }
      ]
    },
    {
      "cell_type": "code",
      "metadata": {
        "id": "kvVGJ6OPBFMC",
        "colab_type": "code",
        "outputId": "c13e0b0d-5ee2-488c-d188-3a96cdb70af1",
        "colab": {
          "base_uri": "https://localhost:8080/",
          "height": 386
        }
      },
      "source": [
        "from keras.models import load_model\n",
        "model = load_model('model.h5')"
      ],
      "execution_count": 0,
      "outputs": [
        {
          "output_type": "stream",
          "text": [
            "Using TensorFlow backend.\n"
          ],
          "name": "stderr"
        },
        {
          "output_type": "display_data",
          "data": {
            "text/html": [
              "<p style=\"color: red;\">\n",
              "The default version of TensorFlow in Colab will soon switch to TensorFlow 2.x.<br>\n",
              "We recommend you <a href=\"https://www.tensorflow.org/guide/migrate\" target=\"_blank\">upgrade</a> now \n",
              "or ensure your notebook will continue to use TensorFlow 1.x via the <code>%tensorflow_version 1.x</code> magic:\n",
              "<a href=\"https://colab.research.google.com/notebooks/tensorflow_version.ipynb\" target=\"_blank\">more info</a>.</p>\n"
            ],
            "text/plain": [
              "<IPython.core.display.HTML object>"
            ]
          },
          "metadata": {
            "tags": []
          }
        },
        {
          "output_type": "error",
          "ename": "ValueError",
          "evalue": "ignored",
          "traceback": [
            "\u001b[0;31m---------------------------------------------------------------------------\u001b[0m",
            "\u001b[0;31mValueError\u001b[0m                                Traceback (most recent call last)",
            "\u001b[0;32m<ipython-input-4-bdcc7d8d338b>\u001b[0m in \u001b[0;36m<module>\u001b[0;34m()\u001b[0m\n\u001b[1;32m      1\u001b[0m \u001b[0;32mfrom\u001b[0m \u001b[0mkeras\u001b[0m\u001b[0;34m.\u001b[0m\u001b[0mmodels\u001b[0m \u001b[0;32mimport\u001b[0m \u001b[0mload_model\u001b[0m\u001b[0;34m\u001b[0m\u001b[0;34m\u001b[0m\u001b[0m\n\u001b[0;32m----> 2\u001b[0;31m \u001b[0mmodel\u001b[0m \u001b[0;34m=\u001b[0m \u001b[0mload_model\u001b[0m\u001b[0;34m(\u001b[0m\u001b[0;34m'model.h5'\u001b[0m\u001b[0;34m)\u001b[0m\u001b[0;34m\u001b[0m\u001b[0;34m\u001b[0m\u001b[0m\n\u001b[0m",
            "\u001b[0;32m/usr/local/lib/python3.6/dist-packages/keras/engine/saving.py\u001b[0m in \u001b[0;36mload_wrapper\u001b[0;34m(*args, **kwargs)\u001b[0m\n\u001b[1;32m    456\u001b[0m                 \u001b[0mos\u001b[0m\u001b[0;34m.\u001b[0m\u001b[0mremove\u001b[0m\u001b[0;34m(\u001b[0m\u001b[0mtmp_filepath\u001b[0m\u001b[0;34m)\u001b[0m\u001b[0;34m\u001b[0m\u001b[0;34m\u001b[0m\u001b[0m\n\u001b[1;32m    457\u001b[0m             \u001b[0;32mreturn\u001b[0m \u001b[0mres\u001b[0m\u001b[0;34m\u001b[0m\u001b[0;34m\u001b[0m\u001b[0m\n\u001b[0;32m--> 458\u001b[0;31m         \u001b[0;32mreturn\u001b[0m \u001b[0mload_function\u001b[0m\u001b[0;34m(\u001b[0m\u001b[0;34m*\u001b[0m\u001b[0margs\u001b[0m\u001b[0;34m,\u001b[0m \u001b[0;34m**\u001b[0m\u001b[0mkwargs\u001b[0m\u001b[0;34m)\u001b[0m\u001b[0;34m\u001b[0m\u001b[0;34m\u001b[0m\u001b[0m\n\u001b[0m\u001b[1;32m    459\u001b[0m \u001b[0;34m\u001b[0m\u001b[0m\n\u001b[1;32m    460\u001b[0m     \u001b[0;32mreturn\u001b[0m \u001b[0mload_wrapper\u001b[0m\u001b[0;34m\u001b[0m\u001b[0;34m\u001b[0m\u001b[0m\n",
            "\u001b[0;32m/usr/local/lib/python3.6/dist-packages/keras/engine/saving.py\u001b[0m in \u001b[0;36mload_model\u001b[0;34m(filepath, custom_objects, compile)\u001b[0m\n\u001b[1;32m    548\u001b[0m     \u001b[0;32mif\u001b[0m \u001b[0mH5Dict\u001b[0m\u001b[0;34m.\u001b[0m\u001b[0mis_supported_type\u001b[0m\u001b[0;34m(\u001b[0m\u001b[0mfilepath\u001b[0m\u001b[0;34m)\u001b[0m\u001b[0;34m:\u001b[0m\u001b[0;34m\u001b[0m\u001b[0;34m\u001b[0m\u001b[0m\n\u001b[1;32m    549\u001b[0m         \u001b[0;32mwith\u001b[0m \u001b[0mH5Dict\u001b[0m\u001b[0;34m(\u001b[0m\u001b[0mfilepath\u001b[0m\u001b[0;34m,\u001b[0m \u001b[0mmode\u001b[0m\u001b[0;34m=\u001b[0m\u001b[0;34m'r'\u001b[0m\u001b[0;34m)\u001b[0m \u001b[0;32mas\u001b[0m \u001b[0mh5dict\u001b[0m\u001b[0;34m:\u001b[0m\u001b[0;34m\u001b[0m\u001b[0;34m\u001b[0m\u001b[0m\n\u001b[0;32m--> 550\u001b[0;31m             \u001b[0mmodel\u001b[0m \u001b[0;34m=\u001b[0m \u001b[0m_deserialize_model\u001b[0m\u001b[0;34m(\u001b[0m\u001b[0mh5dict\u001b[0m\u001b[0;34m,\u001b[0m \u001b[0mcustom_objects\u001b[0m\u001b[0;34m,\u001b[0m \u001b[0mcompile\u001b[0m\u001b[0;34m)\u001b[0m\u001b[0;34m\u001b[0m\u001b[0;34m\u001b[0m\u001b[0m\n\u001b[0m\u001b[1;32m    551\u001b[0m     \u001b[0;32melif\u001b[0m \u001b[0mhasattr\u001b[0m\u001b[0;34m(\u001b[0m\u001b[0mfilepath\u001b[0m\u001b[0;34m,\u001b[0m \u001b[0;34m'write'\u001b[0m\u001b[0;34m)\u001b[0m \u001b[0;32mand\u001b[0m \u001b[0mcallable\u001b[0m\u001b[0;34m(\u001b[0m\u001b[0mfilepath\u001b[0m\u001b[0;34m.\u001b[0m\u001b[0mwrite\u001b[0m\u001b[0;34m)\u001b[0m\u001b[0;34m:\u001b[0m\u001b[0;34m\u001b[0m\u001b[0;34m\u001b[0m\u001b[0m\n\u001b[1;32m    552\u001b[0m         \u001b[0;32mdef\u001b[0m \u001b[0mload_function\u001b[0m\u001b[0;34m(\u001b[0m\u001b[0mh5file\u001b[0m\u001b[0;34m)\u001b[0m\u001b[0;34m:\u001b[0m\u001b[0;34m\u001b[0m\u001b[0;34m\u001b[0m\u001b[0m\n",
            "\u001b[0;32m/usr/local/lib/python3.6/dist-packages/keras/engine/saving.py\u001b[0m in \u001b[0;36m_deserialize_model\u001b[0;34m(h5dict, custom_objects, compile)\u001b[0m\n\u001b[1;32m    237\u001b[0m         \u001b[0;32mreturn\u001b[0m \u001b[0mobj\u001b[0m\u001b[0;34m\u001b[0m\u001b[0;34m\u001b[0m\u001b[0m\n\u001b[1;32m    238\u001b[0m \u001b[0;34m\u001b[0m\u001b[0m\n\u001b[0;32m--> 239\u001b[0;31m     \u001b[0mmodel_config\u001b[0m \u001b[0;34m=\u001b[0m \u001b[0mh5dict\u001b[0m\u001b[0;34m[\u001b[0m\u001b[0;34m'model_config'\u001b[0m\u001b[0;34m]\u001b[0m\u001b[0;34m\u001b[0m\u001b[0;34m\u001b[0m\u001b[0m\n\u001b[0m\u001b[1;32m    240\u001b[0m     \u001b[0;32mif\u001b[0m \u001b[0mmodel_config\u001b[0m \u001b[0;32mis\u001b[0m \u001b[0;32mNone\u001b[0m\u001b[0;34m:\u001b[0m\u001b[0;34m\u001b[0m\u001b[0;34m\u001b[0m\u001b[0m\n\u001b[1;32m    241\u001b[0m         \u001b[0;32mraise\u001b[0m \u001b[0mValueError\u001b[0m\u001b[0;34m(\u001b[0m\u001b[0;34m'No model found in config.'\u001b[0m\u001b[0;34m)\u001b[0m\u001b[0;34m\u001b[0m\u001b[0;34m\u001b[0m\u001b[0m\n",
            "\u001b[0;32m/usr/local/lib/python3.6/dist-packages/keras/utils/io_utils.py\u001b[0m in \u001b[0;36m__getitem__\u001b[0;34m(self, attr)\u001b[0m\n\u001b[1;32m    316\u001b[0m             \u001b[0;32melse\u001b[0m\u001b[0;34m:\u001b[0m\u001b[0;34m\u001b[0m\u001b[0;34m\u001b[0m\u001b[0m\n\u001b[1;32m    317\u001b[0m                 \u001b[0;32mif\u001b[0m \u001b[0mself\u001b[0m\u001b[0;34m.\u001b[0m\u001b[0mread_only\u001b[0m\u001b[0;34m:\u001b[0m\u001b[0;34m\u001b[0m\u001b[0;34m\u001b[0m\u001b[0m\n\u001b[0;32m--> 318\u001b[0;31m                     \u001b[0;32mraise\u001b[0m \u001b[0mValueError\u001b[0m\u001b[0;34m(\u001b[0m\u001b[0;34m'Cannot create group in read-only mode.'\u001b[0m\u001b[0;34m)\u001b[0m\u001b[0;34m\u001b[0m\u001b[0;34m\u001b[0m\u001b[0m\n\u001b[0m\u001b[1;32m    319\u001b[0m                 \u001b[0mval\u001b[0m \u001b[0;34m=\u001b[0m \u001b[0mH5Dict\u001b[0m\u001b[0;34m(\u001b[0m\u001b[0mself\u001b[0m\u001b[0;34m.\u001b[0m\u001b[0mdata\u001b[0m\u001b[0;34m.\u001b[0m\u001b[0mcreate_group\u001b[0m\u001b[0;34m(\u001b[0m\u001b[0mattr\u001b[0m\u001b[0;34m)\u001b[0m\u001b[0;34m)\u001b[0m\u001b[0;34m\u001b[0m\u001b[0;34m\u001b[0m\u001b[0m\n\u001b[1;32m    320\u001b[0m         \u001b[0;32mreturn\u001b[0m \u001b[0mval\u001b[0m\u001b[0;34m\u001b[0m\u001b[0;34m\u001b[0m\u001b[0m\n",
            "\u001b[0;31mValueError\u001b[0m: Cannot create group in read-only mode."
          ]
        }
      ]
    }
  ]
}